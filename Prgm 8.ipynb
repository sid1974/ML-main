{
 "cells": [
  {
   "cell_type": "code",
   "execution_count": null,
   "id": "7eda000c",
   "metadata": {},
   "outputs": [],
   "source": [
    "\"\"\"8. Write a program to construct a Bayesian network considering medical data. Use this model to\n",
    "demonstrate the diagnosis of heart patients using standard Heart Disease Data Set.\"\"\"\n",
    "import numpy as np\n",
    "import pandas as pd\n",
    "import csv \n",
    "from pgmpy.estimators import MaximumLikelihoodEstimator\n",
    "from pgmpy.models import BayesianModel\n",
    "from pgmpy.inference import VariableElimination\n",
    "\n",
    "#heartDisease = pd.read_csv('8heartdiseasedata.csv')\n",
    "\n",
    "data=pd.read_csv(\"heartdisease.csv\", names=['age','Gender','Family','diet','Lifestyle','cholestrol','heartdisease'])\n",
    "# heartDisease = heartDisease.replace('?',np.nan)\n",
    "heartDisease=pd.DataFrame(data)\n",
    "\n",
    "from sklearn.preprocessing import LabelEncoder\n",
    "\n",
    "heartDisease.columns\n",
    " \n",
    "lb = LabelEncoder()\n",
    "for col in heartDisease.columns:\n",
    "    heartDisease[col] = lb.fit_transform(heartDisease[col])\n",
    "\n",
    "\n",
    "\n",
    "print('Sample instances from the dataset are given below')\n",
    "print(heartDisease.head())\n",
    "\n",
    "print('\\n Attributes and datatypes')\n",
    "print(heartDisease.dtypes)\n",
    "\n",
    "model= BayesianModel([('age','heartdisease'),('Gender','heartdisease'),('Family','heartdisease'),('diet','cholestrol'),('Lifestyle','diet'),('heartdisease','cholestrol')])\n",
    "print('\\nLearning CPD using Maximum likelihood estimators')\n",
    "model.fit(heartDisease,estimator=MaximumLikelihoodEstimator)\n",
    "\n",
    "print('\\n Inferencing with Bayesian Network:')\n",
    "HeartDiseasetest_infer = VariableElimination(model)\n",
    "\n",
    "\n",
    "print('For age Enter { SuperSeniorCitizen:0, SeniorCitizen:1, MiddleAged:2, Youth:3, Teen:4 }')\n",
    "print('For Gender Enter { Male:0, Female:1 }')\n",
    "print('For Family History Enter { yes:1, No:0 }')\n",
    "print('For diet Enter { High:0, Medium:1 }')\n",
    "print('For lifeStyle Enter { Athlete:0, Active:1, Moderate:2, Sedentary:3 }')\n",
    "print('For cholesterol Enter { High:0, BorderLine:1, Normal:2 }')\n",
    "\n",
    "print('\\n 1. Probability of HeartDisease given evidence= age')\n",
    "q1=HeartDiseasetest_infer.query(variables=['heartdisease'],evidence={'age':int(input(\"Enter age\"))})\n",
    "print(q1)\n",
    "\n",
    "print('\\n 2. Probability of HeartDisease given evidence= cholestrol ')\n",
    "q2=HeartDiseasetest_infer.query(variables=['heartdisease'],evidence={'cholestrol':int(input(\"Enter Cholestrol\"))})\n",
    "print(q2)\n"
   ]
  }
 ],
 "metadata": {
  "kernelspec": {
   "display_name": "Python 3 (ipykernel)",
   "language": "python",
   "name": "python3"
  },
  "language_info": {
   "codemirror_mode": {
    "name": "ipython",
    "version": 3
   },
   "file_extension": ".py",
   "mimetype": "text/x-python",
   "name": "python",
   "nbconvert_exporter": "python",
   "pygments_lexer": "ipython3",
   "version": "3.10.9"
  }
 },
 "nbformat": 4,
 "nbformat_minor": 5
}
