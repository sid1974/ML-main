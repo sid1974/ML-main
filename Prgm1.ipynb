{
 "cells": [
  {
   "cell_type": "code",
   "execution_count": 1,
   "id": "7b1f9bc2",
   "metadata": {},
   "outputs": [
    {
     "name": "stdout",
     "output_type": "stream",
     "text": [
      "      Sky Airtemp Humidity    Wind Water Forecast WaterSport\n",
      "0   Sunny    Warm   Normal  Strong  Warm     Same        Yes\n",
      "1   Sunny    Warm     High  Strong  Warm     Same        Yes\n",
      "2  Cloudy    Cold     High  Strong  Warm   Change         No\n",
      "3   Sunny    Warm     High  Strong  Cool   Change        Yes\n",
      "-------------------------------------------\n",
      "[['Sunny' 'Warm' 'Normal' 'Strong' 'Warm' 'Same']\n",
      " ['Sunny' 'Warm' 'High' 'Strong' 'Warm' 'Same']\n",
      " ['Cloudy' 'Cold' 'High' 'Strong' 'Warm' 'Change']\n",
      " ['Sunny' 'Warm' 'High' 'Strong' 'Cool' 'Change']]\n",
      "----------------------------------------\n",
      "['Yes' 'Yes' 'No' 'Yes']\n",
      "0\n",
      "['Sunny' 'Warm' 'Normal' 'Strong' 'Warm' 'Same']\n",
      "Hypothesis after sample number:1 processed: ['Sunny' 'Warm' 'Normal' 'Strong' 'Warm' 'Same']\n",
      "1\n",
      "['Sunny' 'Warm' 'High' 'Strong' 'Warm' 'Same']\n",
      "Hypothesis after sample number:2 processed: ['Sunny' 'Warm' '?' 'Strong' 'Warm' 'Same']\n",
      "2\n",
      "['Cloudy' 'Cold' 'High' 'Strong' 'Warm' 'Change']\n",
      "Negative sample number:3 Same Hypothesis:    ['Sunny' 'Warm' '?' 'Strong' 'Warm' 'Same']\n",
      "3\n",
      "['Sunny' 'Warm' 'High' 'Strong' 'Cool' 'Change']\n",
      "Hypothesis after sample number:4 processed: ['Sunny' 'Warm' '?' 'Strong' '?' '?']\n"
     ]
    }
   ],
   "source": [
    "#prgm 1 ML\n",
    "\n",
    "import numpy as np\n",
    "import pandas as pd\n",
    "data = pd.read_csv('1finds.csv')\n",
    "print(data)\n",
    "concepts=data.iloc[:,0:-1].values\n",
    "print(\"-------------------------------------------\")\n",
    "print (concepts)\n",
    "print(\"----------------------------------------\")\n",
    "target = data.iloc[:,-1].values\n",
    "print (target)\n",
    "def train(concepts,target):\n",
    "    count=0\n",
    "    specific_h = concepts[0]\n",
    "    for i,h in enumerate(concepts):\n",
    "        print(i)\n",
    "        print(h)\n",
    "        if target[i] == \"Yes\":\n",
    "            for x in range(len(specific_h)):\n",
    "                if h[x] == specific_h[x]:\n",
    "                    pass\n",
    "                else:\n",
    "                    specific_h[x] = \"?\"\n",
    "            count = count + 1\n",
    "            print (f\"Hypothesis after sample number:{count} processed: {specific_h}\")\n",
    "        else:\n",
    "            pass\n",
    "            count = count + 1\n",
    "            print (f\"Negative sample number:{count} Same Hypothesis:    {specific_h}\")\n",
    "            \n",
    "    return specific_h\n",
    "\n",
    "\n",
    "specific_h=train(concepts,target)"
   ]
  }
 ],
 "metadata": {
  "kernelspec": {
   "display_name": "Python 3 (ipykernel)",
   "language": "python",
   "name": "python3"
  },
  "language_info": {
   "codemirror_mode": {
    "name": "ipython",
    "version": 3
   },
   "file_extension": ".py",
   "mimetype": "text/x-python",
   "name": "python",
   "nbconvert_exporter": "python",
   "pygments_lexer": "ipython3",
   "version": "3.10.9"
  }
 },
 "nbformat": 4,
 "nbformat_minor": 5
}
