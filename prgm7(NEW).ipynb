{
 "cells": [
  {
   "cell_type": "code",
   "execution_count": 1,
   "id": "57015722",
   "metadata": {},
   "outputs": [
    {
     "name": "stdout",
     "output_type": "stream",
     "text": [
      "Data from CSV file:\n",
      "                                  message label  labelnum\n",
      "0                    I love this sandwich   pos         1\n",
      "1                This is an amazing place   pos         1\n",
      "2      I feel very good about these beers   pos         1\n",
      "3                    This is my best work   pos         1\n",
      "4                    What an awesome view   pos         1\n",
      "5           I do not like this restaurant   neg         0\n",
      "6                I am tired of this stuff   neg         0\n",
      "7                  I can't deal with this   neg         0\n",
      "8                    He is my sworn enemy   neg         0\n",
      "9                     My boss is horrible   neg         0\n",
      "10               This is an awesome place   pos         1\n",
      "11  I do not like the taste of this juice   neg         0\n",
      "12                        I love to dance   pos         1\n",
      "13      I am sick and tired of this place   neg         0\n",
      "14                   What a great holiday   pos         1\n",
      "15         That is a bad locality to stay   neg         0\n",
      "16         We will have good fun tomorrow   pos         1\n",
      "17       I went to my enemy's house today   neg         0\n",
      "Accuracy of the classifier: 0.6\n",
      "Confusion matrix:\n",
      "[[2 1]\n",
      " [1 1]]\n",
      "The value of Precision: 0.5\n",
      "The value of Recall: 0.5\n"
     ]
    }
   ],
   "source": [
    "import pandas as pd\n",
    "from sklearn.model_selection import train_test_split\n",
    "from sklearn.feature_extraction.text import CountVectorizer\n",
    "from sklearn.naive_bayes import MultinomialNB\n",
    "from sklearn import metrics\n",
    "\n",
    "msg = pd.read_csv('7naivetext.csv', names=['message', 'label'])\n",
    "msg['labelnum'] = msg.label.map({'pos': 1, 'neg': 0})\n",
    "X = msg.message\n",
    "y = msg.labelnum\n",
    "\n",
    "\n",
    "print('Data from CSV file:')\n",
    "print(msg)\n",
    "\n",
    "\n",
    "xtrain, xtest, ytrain, ytest = train_test_split(X, y)\n",
    "\n",
    "\n",
    "count_vect = CountVectorizer()\n",
    "xtrain_dtm = count_vect.fit_transform(xtrain)\n",
    "xtest_dtm = count_vect.transform(xtest)\n",
    "\n",
    "\n",
    "clf = MultinomialNB().fit(xtrain_dtm, ytrain)\n",
    "\n",
    "\n",
    "predicted = clf.predict(xtest_dtm)\n",
    "\n",
    "accuracy = metrics.accuracy_score(ytest, predicted)\n",
    "confusion_matrix = metrics.confusion_matrix(ytest, predicted)\n",
    "precision = metrics.precision_score(ytest, predicted)\n",
    "recall = metrics.recall_score(ytest, predicted)\n",
    "\n",
    "print('Accuracy of the classifier:', accuracy)\n",
    "print('Confusion matrix:')\n",
    "print(confusion_matrix)\n",
    "print('The value of Precision:', precision)\n",
    "print('The value of Recall:', recall)"
   ]
  },
  {
   "cell_type": "code",
   "execution_count": null,
   "id": "aa717997",
   "metadata": {},
   "outputs": [],
   "source": []
  }
 ],
 "metadata": {
  "kernelspec": {
   "display_name": "Python 3 (ipykernel)",
   "language": "python",
   "name": "python3"
  },
  "language_info": {
   "codemirror_mode": {
    "name": "ipython",
    "version": 3
   },
   "file_extension": ".py",
   "mimetype": "text/x-python",
   "name": "python",
   "nbconvert_exporter": "python",
   "pygments_lexer": "ipython3",
   "version": "3.11.4"
  }
 },
 "nbformat": 4,
 "nbformat_minor": 5
}
