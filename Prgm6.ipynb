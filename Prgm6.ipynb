{
 "cells": [
  {
   "cell_type": "code",
   "execution_count": 4,
   "id": "ecf0aad3",
   "metadata": {},
   "outputs": [
    {
     "name": "stdout",
     "output_type": "stream",
     "text": [
      "\n",
      " the total number of Training Data : (514, 1)\n",
      "\n",
      " the total number of Test Data : (254, 1)\n",
      "\n",
      " Confusion matrix\n",
      "[[140  28]\n",
      " [ 35  51]]\n",
      "\n",
      " Accuracy of the classifier is 0.7519685039370079\n",
      "\n",
      " The value of Precision 0.6455696202531646\n",
      "\n",
      " The value of Recall 0.5930232558139535\n",
      "Predicted Value for individual Test Data: [1]\n"
     ]
    }
   ],
   "source": [
    "'''6 :Implement the naïve Bayesian classifier for a sample training data set stored as a\n",
    ".CSV file. Compute the accuracy of the classifier, considering few test data sets.'''\n",
    "\n",
    "import pandas as pd\n",
    "from sklearn.model_selection import train_test_split\n",
    "from sklearn.naive_bayes import GaussianNB\n",
    "from sklearn import metrics\n",
    "\n",
    "df = pd.read_csv(\"6pima_indian.csv\")\n",
    "feature_col_names = ['num_preg', 'glucose_conc', 'diastolic_bp', 'thickness', 'insulin', 'bmi', 'diab_pred', 'age']\n",
    "predicted_class_names = ['diabetes']\n",
    "\n",
    "X = df[feature_col_names].values # these are factors for the prediction\n",
    "y = df[predicted_class_names].values # this is what we want to predict\n",
    "\n",
    "#splitting the dataset into train and test data\n",
    "\n",
    "xtrain,xtest,ytrain,ytest=train_test_split(X,y,test_size=0.33)\n",
    "\n",
    "print ('\\n the total number of Training Data :',ytrain.shape)\n",
    "print ('\\n the total number of Test Data :',ytest.shape)\n",
    "\n",
    "\n",
    "# Training Naive Bayes (NB) classifier on training data.\n",
    "\n",
    "clf = GaussianNB().fit(xtrain,ytrain.ravel())\n",
    "predicted = clf.predict(xtest)\n",
    "predictTestData= clf.predict([[6,148,72,35,0,33.6,0.627,50]])\n",
    "\n",
    "#printing Confusion matrix, accuracy, Precision and Recall\n",
    "\n",
    "print('\\n Confusion matrix')\n",
    "print(metrics.confusion_matrix(ytest,predicted))\n",
    "\n",
    "print('\\n Accuracy of the classifier is',metrics.accuracy_score(ytest,predicted))\n",
    "\n",
    "print('\\n The value of Precision', metrics.precision_score(ytest,predicted))\n",
    "\n",
    "print('\\n The value of Recall', metrics.recall_score(ytest,predicted))\n",
    "\n",
    "print(\"Predicted Value for individual Test Data:\", predictTestData)\n"
   ]
  }
 ],
 "metadata": {
  "kernelspec": {
   "display_name": "Python 3 (ipykernel)",
   "language": "python",
   "name": "python3"
  },
  "language_info": {
   "codemirror_mode": {
    "name": "ipython",
    "version": 3
   },
   "file_extension": ".py",
   "mimetype": "text/x-python",
   "name": "python",
   "nbconvert_exporter": "python",
   "pygments_lexer": "ipython3",
   "version": "3.10.9"
  }
 },
 "nbformat": 4,
 "nbformat_minor": 5
}
