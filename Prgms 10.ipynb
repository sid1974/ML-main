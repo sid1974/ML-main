{
 "cells": [
  {
   "cell_type": "code",
   "execution_count": 1,
   "id": "7b1ce308",
   "metadata": {},
   "outputs": [
    {
     "name": "stdout",
     "output_type": "stream",
     "text": [
      "Accuracy metrics\n",
      "Accuracy of the SVM is 0.868421052631579\n",
      "Confusion matrix\n",
      "[[14  0  0]\n",
      " [ 0 13  1]\n",
      " [ 0  4  6]]\n",
      "Recall and Precison \n",
      "0.868421052631579\n",
      "0.8757187085360458\n"
     ]
    }
   ],
   "source": [
    "#10.Demonstrate the working of SVM classifier for a suitable data set\n",
    "\n",
    "import pandas as pd\n",
    "dataset = pd.read_csv('10iris.csv')\n",
    "X = dataset.iloc[:, :-1].values\n",
    "y = dataset.iloc[:, -1].values\n",
    "from sklearn.model_selection import train_test_split\n",
    "X_train, X_test, y_train, y_test = train_test_split(X, y, test_size = 0.25, random_state = 0)\n",
    "\n",
    "from sklearn.preprocessing import StandardScaler\n",
    "sc = StandardScaler()\n",
    "X_train = sc.fit_transform(X_train)\n",
    "X_test = sc.transform(X_test)\n",
    "from sklearn.svm import SVC\n",
    "classifier = SVC(kernel = 'linear', random_state = 0)\n",
    "classifier.fit(X_train, y_train)\n",
    "\n",
    "SVC(C=1.0, cache_size=200, class_weight=None, coef0=0.0,\n",
    "decision_function_shape='ovr', degree=3, gamma='auto_deprecated',\n",
    "kernel='linear', max_iter=-1, probability=False, random_state=0,\n",
    "shrinking=True, tol=0.001, verbose=False)\n",
    "\n",
    "from sklearn.metrics import confusion_matrix, accuracy_score\n",
    "\n",
    "y_pred = classifier.predict(X_test)\n",
    "from sklearn import metrics\n",
    "print('Accuracy metrics')\n",
    "print('Accuracy of the SVM is',metrics.accuracy_score(y_test,y_pred))\n",
    "print('Confusion matrix')\n",
    "print(metrics.confusion_matrix(y_test,y_pred))\n",
    "print('Recall and Precison ')\n",
    "print(metrics.recall_score(y_test,y_pred,average='weighted'))\n",
    "print(metrics.precision_score(y_test,y_pred,average='weighted'))"
   ]
  }
 ],
 "metadata": {
  "kernelspec": {
   "display_name": "Python 3 (ipykernel)",
   "language": "python",
   "name": "python3"
  },
  "language_info": {
   "codemirror_mode": {
    "name": "ipython",
    "version": 3
   },
   "file_extension": ".py",
   "mimetype": "text/x-python",
   "name": "python",
   "nbconvert_exporter": "python",
   "pygments_lexer": "ipython3",
   "version": "3.10.9"
  }
 },
 "nbformat": 4,
 "nbformat_minor": 5
}
