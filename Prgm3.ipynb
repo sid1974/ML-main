{
 "cells": [
  {
   "cell_type": "code",
   "execution_count": 6,
   "id": "7f89c012",
   "metadata": {},
   "outputs": [
    {
     "name": "stdout",
     "output_type": "stream",
     "text": [
      "True\n",
      "       0    1    2    3          4\n",
      "143  5.8  2.7  5.1  1.9  Virginica\n",
      "(151, 5)\n",
      "(150, 5)\n"
     ]
    }
   ],
   "source": [
    "\"\"\"P3a:Identify and Delete Rows that Contain Duplicate Data by considering an appropriate\n",
    "dataset.\"\"\"\n",
    "\n",
    "from numpy import unique\n",
    "from pandas import read_csv\n",
    "import pandas as pd\n",
    "\n",
    "# summarize the number of unique values for each column using numpy\n",
    "# load the dataset\n",
    "data = pd.read_csv('3iris.csv', header=None)\n",
    "# calculate duplicates\n",
    "dups = data.duplicated()\n",
    "# report if there are any duplicates\n",
    "print(dups.any())\n",
    "# list all duplicate rows\n",
    "print(data[dups])\n",
    "\n",
    "# delete rows of duplicate data from the dataset\n",
    "\n",
    "print(data.shape)\n",
    "# delete duplicate rows\n",
    "data.drop_duplicates(inplace=True)\n",
    "print(data.shape)"
   ]
  }
 ],
 "metadata": {
  "kernelspec": {
   "display_name": "Python 3 (ipykernel)",
   "language": "python",
   "name": "python3"
  },
  "language_info": {
   "codemirror_mode": {
    "name": "ipython",
    "version": 3
   },
   "file_extension": ".py",
   "mimetype": "text/x-python",
   "name": "python",
   "nbconvert_exporter": "python",
   "pygments_lexer": "ipython3",
   "version": "3.10.9"
  }
 },
 "nbformat": 4,
 "nbformat_minor": 5
}
