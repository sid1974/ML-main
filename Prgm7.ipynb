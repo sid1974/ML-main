import pandas as pd
from sklearn.model_selection import train_test_split
from sklearn.feature_extraction.text import CountVectorizer
from sklearn.naive_bayes import MultinomialNB
from sklearn import metrics

msg = pd.read_csv('7naivetext.csv', names=['message', 'label'])
msg['labelnum'] = msg.label.map({'pos': 1, 'neg': 0})
X = msg.message
y = msg.labelnum


print('Data from CSV file:')
print(msg)


xtrain, xtest, ytrain, ytest = train_test_split(X, y)


count_vect = CountVectorizer()
xtrain_dtm = count_vect.fit_transform(xtrain)
xtest_dtm = count_vect.transform(xtest)


clf = MultinomialNB().fit(xtrain_dtm, ytrain)


predicted = clf.predict(xtest_dtm)

accuracy = metrics.accuracy_score(ytest, predicted)
confusion_matrix = metrics.confusion_matrix(ytest, predicted)
precision = metrics.precision_score(ytest, predicted)
recall = metrics.recall_score(ytest, predicted)

print('Accuracy of the classifier:', accuracy)
print('Confusion matrix:')
print(confusion_matrix)
print('The value of Precision:', precision)
print('The value of Recall:', recall)