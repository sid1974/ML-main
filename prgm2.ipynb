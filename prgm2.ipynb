{
 "cells": [
  {
   "cell_type": "code",
   "execution_count": 1,
   "id": "05258992",
   "metadata": {},
   "outputs": [
    {
     "name": "stdout",
     "output_type": "stream",
     "text": [
      "specific=Sunny\n",
      "specific=Warm\n",
      "specific=?\n",
      "specific=Strong\n",
      "specific=Warm\n",
      "specific=Same\n",
      "Final S:\n",
      "['Sunny' 'Warm' '?' 'Strong' '?' '?']\n",
      "Final G:\n",
      "[['Sunny', '?', '?', '?', '?', '?'], ['?', 'Warm', '?', '?', '?', '?']]\n"
     ]
    }
   ],
   "source": [
    " \n",
    "import numpy as np\n",
    "import pandas as pd\n",
    "\n",
    "# Loading Data from a CSV File\n",
    "data = pd.DataFrame(data=pd.read_csv('2ce.csv'))\n",
    "\n",
    "\n",
    "# Separating concept features from Target\n",
    "concepts = data.iloc[:,0:-1].values\n",
    "\n",
    "# Isolating target into a separate DataFrame\n",
    "target =data.iloc[:,-1].values\n",
    "def learn(concepts, target):\n",
    "    specific_h = concepts[0].copy()\n",
    "    general_h = [[\"?\" for i in range(len(specific_h))] for i in range(len(specific_h))]\n",
    "    \n",
    "    # The learning iterations\n",
    "    for i, h in enumerate(concepts):\n",
    "        \n",
    "        # Checking if the hypothesis has a positive target\n",
    "        if target[i] == \"Yes\":\n",
    "            for x in range(len(specific_h)):\n",
    "                \n",
    "                # Change values in S & G only if values change\n",
    "                if h[x] != specific_h[x]:\n",
    "                    specific_h[x] = '?'\n",
    "                    general_h[x][x] = '?'\n",
    "                    \n",
    "        # Checking if the hypothesis has a positive target\n",
    "        if target[i] == \"No\":\n",
    "            for x in range(len(specific_h)):\n",
    "                print(f\"specific={specific_h[x]}\")\n",
    "                # For negative hyposthesis change values only  in G\n",
    "                if h[x] != specific_h[x]:\n",
    "                    general_h[x][x] = specific_h[x]\n",
    "                    #print(f\"general{x}={general_h[x][x]}\")\n",
    "                else:\n",
    "                    general_h[x][x] = '?'\n",
    "  # find indices where we have empty rows, meaning those that are unchanged\n",
    "    indices = [i for i,val in enumerate(general_h) if val == ['?', '?', '?', '?', '?', '?']]\n",
    "    for i in indices:\n",
    "        # remove those rows from general_h\n",
    "        general_h.remove(['?', '?', '?', '?', '?', '?'])\n",
    "        \n",
    "    # Return final values\n",
    "    return specific_h, general_h\n",
    "s_final, g_final = learn(concepts, target)\n",
    "print(\"Final S:\", s_final, sep=\"\\n\")\n",
    "print(\"Final G:\", g_final, sep=\"\\n\")"
   ]
  }
 ],
 "metadata": {
  "kernelspec": {
   "display_name": "Python 3 (ipykernel)",
   "language": "python",
   "name": "python3"
  },
  "language_info": {
   "codemirror_mode": {
    "name": "ipython",
    "version": 3
   },
   "file_extension": ".py",
   "mimetype": "text/x-python",
   "name": "python",
   "nbconvert_exporter": "python",
   "pygments_lexer": "ipython3",
   "version": "3.10.9"
  }
 },
 "nbformat": 4,
 "nbformat_minor": 5
}
